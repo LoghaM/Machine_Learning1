{
 "cells": [
  {
   "cell_type": "code",
   "execution_count": 2,
   "metadata": {},
   "outputs": [
    {
     "name": "stdout",
     "output_type": "stream",
     "text": [
      "['CHLOE Lighting EMPRESS Dragonfly Tiffany-style Dark Bronze 1 Light Reading Floor Lamp 11\" Wide', 'Dainolite 1LT Incan Adjustable Pharmacy Floor Lamp', 'Chloe Floor Lamp- Antique Brass', 'Liam Table Lamp- Steel', 'Oliver AdessoCharge Table Lamp', 'Cloth & Wire Retro Rectangle Softback Lampshade with Washer Fitter', 'SEI Engra Narrow Long Console Table w/ Mirrored Top Black', 'Baxton Studio Savion Modern Industrial Walnut Brown Finished Wood and Black Metal Console Table', 'Furinno Turn-N-Tube Tall-Wide Hallway Console Table with Bin', 'Benzara Traditional Style Wooden Arm Chair With Leatherette Cushions In Gray', 'Jolie Contemporary Accent Chair', 'Benzara Classic Style Transitional Arm Chair', 'American Furniture Classics OS Home and Office Furniture Model MAG51-SK32 Magnolia Upholstered Accent Chair', 'Safavieh Jenny Arm Chair W/ Bass Nail Heads']\n"
     ]
    }
   ],
   "source": [
    "from sklearn.feature_extraction.text import TfidfVectorizer\n",
    "from sklearn.cluster import KMeans\n",
    "import numpy as np\n",
    "\n",
    "# Sample input sentences (product labels)\n",
    "product_labels = [\n",
    "    \"CHLOE Lighting EMPRESS Dragonfly Tiffany-style Dark Bronze 1 Light Reading Floor Lamp 11\\\" Wide\",\n",
    "    \"Dainolite 1LT Incan Adjustable Pharmacy Floor Lamp, AGB\",\n",
    "    \"Chloe Floor Lamp- Antique Brass\",\n",
    "    \"Liam Table Lamp- Steel\",\n",
    "    \"Oliver AdessoCharge Table Lamp\",\n",
    "    \"Cloth & Wire Retro Rectangle Softback Lampshade with Washer Fitter, Oatmeal Color Fabric Lampshade for Table Lamps, Natural Linen, 8x14\\\" Top x 10x16\\\" Bottom x 10.75\\\" Height\",\n",
    "    \"SEI Engra Narrow Long Console Table w/ Mirrored Top Black\",\n",
    "    \"Baxton Studio Savion Modern Industrial Walnut Brown Finished Wood and Black Metal Console Table\",\n",
    "    \"Furinno Turn-N-Tube Tall-Wide Hallway Console Table with Bin, Espresso/Brown\",\n",
    "    \"Benzara Traditional Style Wooden Arm Chair With Leatherette Cushions In Gray, Set Of 2\",\n",
    "    \"Jolie Contemporary Accent Chair, Polished Stainless Steel, Polished Stainless Steel\",\n",
    "    \"Benzara Classic Style Transitional Arm Chair, Cherry Brown, Brown\",\n",
    "    \"American Furniture Classics OS Home and Office Furniture Model MAG51-SK32 Magnolia Upholstered Accent Chair\",\n",
    "    \"Safavieh Jenny Arm Chair W/ Bass Nail Heads, Ivory\"\n",
    "]\n",
    "# Extract only the first comma-separated string from each product label\n",
    "new_product_labels = [label.split(',')[0] for label in product_labels]\n",
    "\n",
    "# Print the new product labels\n",
    "print(new_product_labels)\n",
    "product_labels = new_product_labels"
   ]
  },
  {
   "cell_type": "code",
   "execution_count": 3,
   "metadata": {},
   "outputs": [
    {
     "name": "stderr",
     "output_type": "stream",
     "text": [
      "C:\\Users\\logham\\AppData\\Local\\Packages\\PythonSoftwareFoundation.Python.3.11_qbz5n2kfra8p0\\LocalCache\\local-packages\\Python311\\site-packages\\sklearn\\cluster\\_kmeans.py:1416: FutureWarning: The default value of `n_init` will change from 10 to 'auto' in 1.4. Set the value of `n_init` explicitly to suppress the warning\n",
      "  super()._check_params_vs_input(X, default_n_init=10)\n"
     ]
    },
    {
     "name": "stdout",
     "output_type": "stream",
     "text": [
      "Cluster 0 :\n",
      "['CHLOE Lighting EMPRESS Dragonfly Tiffany-style Dark Bronze 1 Light Reading Floor Lamp 11\" Wide'\n",
      " 'Dainolite 1LT Incan Adjustable Pharmacy Floor Lamp'\n",
      " 'Chloe Floor Lamp- Antique Brass' 'Liam Table Lamp- Steel'\n",
      " 'Oliver AdessoCharge Table Lamp'\n",
      " 'Cloth & Wire Retro Rectangle Softback Lampshade with Washer Fitter']\n",
      "\n",
      "Cluster 1 :\n",
      "['Benzara Traditional Style Wooden Arm Chair With Leatherette Cushions In Gray'\n",
      " 'Jolie Contemporary Accent Chair'\n",
      " 'Benzara Classic Style Transitional Arm Chair'\n",
      " 'American Furniture Classics OS Home and Office Furniture Model MAG51-SK32 Magnolia Upholstered Accent Chair'\n",
      " 'Safavieh Jenny Arm Chair W/ Bass Nail Heads']\n",
      "\n",
      "Cluster 2 :\n",
      "['SEI Engra Narrow Long Console Table w/ Mirrored Top Black'\n",
      " 'Baxton Studio Savion Modern Industrial Walnut Brown Finished Wood and Black Metal Console Table'\n",
      " 'Furinno Turn-N-Tube Tall-Wide Hallway Console Table with Bin']\n",
      "\n"
     ]
    }
   ],
   "source": [
    "# Specific tag words\n",
    "tag_words = [ \"table\",\"lamp\", \"chair\"]\n",
    "\n",
    "# # Function to extract features based on the presence of tag words\n",
    "# def extract_features(product_labels, tag_words):\n",
    "#     features = np.zeros((len(product_labels), len(tag_words)), dtype=int)\n",
    "#     for i, label in enumerate(product_labels):\n",
    "#         for j, word in enumerate(tag_words):\n",
    "#             if word in label.lower():\n",
    "#                 features[i, j] = 1\n",
    "#     return features\n",
    "\n",
    "# # Extract features based on tag words\n",
    "# X = extract_features(product_labels, tag_words)\n",
    "\n",
    "#Initialize TfidfVectorizer\n",
    "vectorizer = TfidfVectorizer(vocabulary=tag_words)\n",
    "\n",
    "# Transform product labels into TF-IDF features\n",
    "X = vectorizer.fit_transform(product_labels)\n",
    "\n",
    "# Perform K-Means clustering\n",
    "num_clusters = 3  # You can adjust the number of clusters based on your dataset\n",
    "kmeans = KMeans(n_clusters=num_clusters, random_state=42)\n",
    "kmeans.fit(X)\n",
    "\n",
    "# Print the clusters\n",
    "for i in range(num_clusters):\n",
    "    print(\"Cluster\", i, \":\")\n",
    "    cluster_labels = np.array(product_labels)[kmeans.labels_ == i]\n",
    "    print(cluster_labels)\n",
    "    print()\n"
   ]
  },
  {
   "cell_type": "code",
   "execution_count": 5,
   "metadata": {},
   "outputs": [
    {
     "name": "stdout",
     "output_type": "stream",
     "text": [
      "Predicted Cluster for New Label: 2\n",
      "Predicted Cluster for New Label: 0\n",
      "Predicted Cluster for New Label: 0\n",
      "Predicted Cluster for New Label: 0\n",
      "Predicted Cluster for New Label: 2\n",
      "Predicted Cluster for New Label: 1\n",
      "Predicted Cluster for New Label: 2\n",
      "Predicted Cluster for New Label: 0\n",
      "Predicted Cluster for New Label: 1\n",
      "Predicted Cluster for New Label: 0\n",
      "Predicted Cluster for New Label: 1\n",
      "Predicted Cluster for New Label: 0\n"
     ]
    }
   ],
   "source": [
    "# Function to predict the cluster for a new product label\n",
    "def predict_cluster(new_label, tag_words, kmeans_model):\n",
    "    features = np.zeros((1, len(tag_words)), dtype=int)\n",
    "    for j, word in enumerate(tag_words):\n",
    "        if word in new_label.lower():\n",
    "            features[0, j] = 1\n",
    "    return kmeans_model.predict(features)[0]\n",
    "\n",
    "# Test the predict_cluster function with a new label\n",
    "additional_product_labels = [\n",
    "    \"Flip Top Bed-Side Table, Cherry\",\n",
    "    \"ORE International 34.25\\\" - 29.25\\\" In Mid-Century Adjustable Tripod Chrome/Silver Metal Table Lamp\",\n",
    "    \"Contemporary Metal Desk Lamp with Adjustable Arm, Black\",\n",
    "    \"Vintage Wooden Table Lamp with Fabric Shade, Brown\",\n",
    "    \"Modern Glass Coffee Table with Metal Legs, Clear\",\n",
    "    \"Traditional Upholstered Armchair with Floral Pattern, Beige\",\n",
    "    \"Rustic Wood Console Table with Storage Shelves, Dark Brown\",\n",
    "    \"Industrial Style Floor Lamp with Edison Bulb, Silver\",\n",
    "    \"Mid-Century Modern Lounge Chair with Velvet Upholstery, Blue\",\n",
    "    \"Antique Brass Chandelier with Crystal Accents, Gold\",\n",
    "    \"Farmhouse Dining Table with Bench and Chairs, White\",\n",
    "    \"Art Deco Style Pendant Light with Frosted Glass Shade, Chrome\"\n",
    "]\n",
    "# Extract only the first comma-separated string from each product label\n",
    "additional_new_product_labels = [label.split(',')[0] for label in additional_product_labels]\n",
    "additional_product_labels = additional_new_product_labels\n",
    "for i in additional_product_labels:\n",
    "    new_label = i \n",
    "    predicted_cluster = predict_cluster(new_label, tag_words, kmeans)\n",
    "    print(\"Predicted Cluster for New Label:\", predicted_cluster)\n"
   ]
  }
 ],
 "metadata": {
  "kernelspec": {
   "display_name": "Python 3",
   "language": "python",
   "name": "python3"
  },
  "language_info": {
   "codemirror_mode": {
    "name": "ipython",
    "version": 3
   },
   "file_extension": ".py",
   "mimetype": "text/x-python",
   "name": "python",
   "nbconvert_exporter": "python",
   "pygments_lexer": "ipython3",
   "version": "3.11.9"
  }
 },
 "nbformat": 4,
 "nbformat_minor": 2
}
